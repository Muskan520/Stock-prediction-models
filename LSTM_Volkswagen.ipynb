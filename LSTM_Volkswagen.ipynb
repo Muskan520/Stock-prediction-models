{
  "nbformat": 4,
  "nbformat_minor": 0,
  "metadata": {
    "colab": {
      "name": "LSTM_Volkswagen.ipynb",
      "provenance": [],
      "authorship_tag": "ABX9TyOy2VwKo7o1wHv0gAPQl/QY",
      "include_colab_link": true
    },
    "kernelspec": {
      "name": "python3",
      "display_name": "Python 3"
    },
    "language_info": {
      "name": "python"
    }
  },
  "cells": [
    {
      "cell_type": "markdown",
      "metadata": {
        "id": "view-in-github",
        "colab_type": "text"
      },
      "source": [
        "<a href=\"https://colab.research.google.com/github/Muskan520/Stock-prediction-models/blob/main/LSTM_Volkswagen.ipynb\" target=\"_parent\"><img src=\"https://colab.research.google.com/assets/colab-badge.svg\" alt=\"Open In Colab\"/></a>"
      ]
    },
    {
      "cell_type": "code",
      "metadata": {
        "id": "HeuS9RFa0PAU"
      },
      "source": [
        "#Predicting adjusting stock price using lstm"
      ],
      "execution_count": null,
      "outputs": []
    },
    {
      "cell_type": "code",
      "metadata": {
        "id": "bVnJfeonDea6"
      },
      "source": [
        "import math\n",
        "import numpy as np\n",
        "import pandas_datareader as web \n",
        "import pandas as pd\n",
        "from sklearn.preprocessing import MinMaxScaler\n",
        "from keras.models import Sequential\n",
        "from keras.layers import Dense, LSTM\n",
        "import matplotlib.pyplot as plt\n",
        "plt.style.use('fivethirtyeight')"
      ],
      "execution_count": null,
      "outputs": []
    },
    {
      "cell_type": "code",
      "metadata": {
        "colab": {
          "base_uri": "https://localhost:8080/",
          "height": 450
        },
        "id": "P-OolmojEtBr",
        "outputId": "cb87adab-168a-4bf0-8caa-577974e6b43e"
      },
      "source": [
        "#get data volkswagen\n",
        "df=web.DataReader('VWAGY',data_source='yahoo', start='2011-01-01',end='2021-06-07')\n",
        "df\n"
      ],
      "execution_count": null,
      "outputs": [
        {
          "output_type": "execute_result",
          "data": {
            "text/html": [
              "<div>\n",
              "<style scoped>\n",
              "    .dataframe tbody tr th:only-of-type {\n",
              "        vertical-align: middle;\n",
              "    }\n",
              "\n",
              "    .dataframe tbody tr th {\n",
              "        vertical-align: top;\n",
              "    }\n",
              "\n",
              "    .dataframe thead th {\n",
              "        text-align: right;\n",
              "    }\n",
              "</style>\n",
              "<table border=\"1\" class=\"dataframe\">\n",
              "  <thead>\n",
              "    <tr style=\"text-align: right;\">\n",
              "      <th></th>\n",
              "      <th>High</th>\n",
              "      <th>Low</th>\n",
              "      <th>Open</th>\n",
              "      <th>Close</th>\n",
              "      <th>Volume</th>\n",
              "      <th>Adj Close</th>\n",
              "    </tr>\n",
              "    <tr>\n",
              "      <th>Date</th>\n",
              "      <th></th>\n",
              "      <th></th>\n",
              "      <th></th>\n",
              "      <th></th>\n",
              "      <th></th>\n",
              "      <th></th>\n",
              "    </tr>\n",
              "  </thead>\n",
              "  <tbody>\n",
              "    <tr>\n",
              "      <th>2011-01-03</th>\n",
              "      <td>15.050000</td>\n",
              "      <td>14.625000</td>\n",
              "      <td>14.625000</td>\n",
              "      <td>15.027500</td>\n",
              "      <td>188400.0</td>\n",
              "      <td>14.548043</td>\n",
              "    </tr>\n",
              "    <tr>\n",
              "      <th>2011-01-04</th>\n",
              "      <td>15.455000</td>\n",
              "      <td>15.165000</td>\n",
              "      <td>15.375000</td>\n",
              "      <td>15.200000</td>\n",
              "      <td>137000.0</td>\n",
              "      <td>14.715039</td>\n",
              "    </tr>\n",
              "    <tr>\n",
              "      <th>2011-01-05</th>\n",
              "      <td>14.875000</td>\n",
              "      <td>14.600000</td>\n",
              "      <td>14.670000</td>\n",
              "      <td>14.850000</td>\n",
              "      <td>90000.0</td>\n",
              "      <td>14.376206</td>\n",
              "    </tr>\n",
              "    <tr>\n",
              "      <th>2011-01-06</th>\n",
              "      <td>14.950000</td>\n",
              "      <td>14.625000</td>\n",
              "      <td>14.950000</td>\n",
              "      <td>14.675000</td>\n",
              "      <td>91000.0</td>\n",
              "      <td>14.206790</td>\n",
              "    </tr>\n",
              "    <tr>\n",
              "      <th>2011-01-07</th>\n",
              "      <td>15.205000</td>\n",
              "      <td>14.895000</td>\n",
              "      <td>14.895000</td>\n",
              "      <td>15.035000</td>\n",
              "      <td>140600.0</td>\n",
              "      <td>14.555304</td>\n",
              "    </tr>\n",
              "    <tr>\n",
              "      <th>...</th>\n",
              "      <td>...</td>\n",
              "      <td>...</td>\n",
              "      <td>...</td>\n",
              "      <td>...</td>\n",
              "      <td>...</td>\n",
              "      <td>...</td>\n",
              "    </tr>\n",
              "    <tr>\n",
              "      <th>2021-06-01</th>\n",
              "      <td>36.740002</td>\n",
              "      <td>36.270000</td>\n",
              "      <td>36.299000</td>\n",
              "      <td>36.669998</td>\n",
              "      <td>603900.0</td>\n",
              "      <td>36.669998</td>\n",
              "    </tr>\n",
              "    <tr>\n",
              "      <th>2021-06-02</th>\n",
              "      <td>37.973999</td>\n",
              "      <td>37.500000</td>\n",
              "      <td>37.736000</td>\n",
              "      <td>37.720001</td>\n",
              "      <td>628800.0</td>\n",
              "      <td>37.720001</td>\n",
              "    </tr>\n",
              "    <tr>\n",
              "      <th>2021-06-03</th>\n",
              "      <td>37.599998</td>\n",
              "      <td>36.360001</td>\n",
              "      <td>37.410000</td>\n",
              "      <td>37.500000</td>\n",
              "      <td>620700.0</td>\n",
              "      <td>37.500000</td>\n",
              "    </tr>\n",
              "    <tr>\n",
              "      <th>2021-06-04</th>\n",
              "      <td>37.680000</td>\n",
              "      <td>37.450001</td>\n",
              "      <td>37.630001</td>\n",
              "      <td>37.494999</td>\n",
              "      <td>319800.0</td>\n",
              "      <td>37.494999</td>\n",
              "    </tr>\n",
              "    <tr>\n",
              "      <th>2021-06-07</th>\n",
              "      <td>38.349998</td>\n",
              "      <td>37.700001</td>\n",
              "      <td>37.817001</td>\n",
              "      <td>38.349998</td>\n",
              "      <td>433500.0</td>\n",
              "      <td>38.349998</td>\n",
              "    </tr>\n",
              "  </tbody>\n",
              "</table>\n",
              "<p>2624 rows × 6 columns</p>\n",
              "</div>"
            ],
            "text/plain": [
              "                 High        Low       Open      Close    Volume  Adj Close\n",
              "Date                                                                       \n",
              "2011-01-03  15.050000  14.625000  14.625000  15.027500  188400.0  14.548043\n",
              "2011-01-04  15.455000  15.165000  15.375000  15.200000  137000.0  14.715039\n",
              "2011-01-05  14.875000  14.600000  14.670000  14.850000   90000.0  14.376206\n",
              "2011-01-06  14.950000  14.625000  14.950000  14.675000   91000.0  14.206790\n",
              "2011-01-07  15.205000  14.895000  14.895000  15.035000  140600.0  14.555304\n",
              "...               ...        ...        ...        ...       ...        ...\n",
              "2021-06-01  36.740002  36.270000  36.299000  36.669998  603900.0  36.669998\n",
              "2021-06-02  37.973999  37.500000  37.736000  37.720001  628800.0  37.720001\n",
              "2021-06-03  37.599998  36.360001  37.410000  37.500000  620700.0  37.500000\n",
              "2021-06-04  37.680000  37.450001  37.630001  37.494999  319800.0  37.494999\n",
              "2021-06-07  38.349998  37.700001  37.817001  38.349998  433500.0  38.349998\n",
              "\n",
              "[2624 rows x 6 columns]"
            ]
          },
          "metadata": {
            "tags": []
          },
          "execution_count": 10
        }
      ]
    },
    {
      "cell_type": "code",
      "metadata": {
        "colab": {
          "base_uri": "https://localhost:8080/"
        },
        "id": "sj3XTaPhJU5M",
        "outputId": "4bbc949c-c815-4e29-dda8-ff10f0d4eff2"
      },
      "source": [
        "df.shape"
      ],
      "execution_count": null,
      "outputs": [
        {
          "output_type": "execute_result",
          "data": {
            "text/plain": [
              "(2624, 6)"
            ]
          },
          "metadata": {
            "tags": []
          },
          "execution_count": 11
        }
      ]
    },
    {
      "cell_type": "code",
      "metadata": {
        "colab": {
          "base_uri": "https://localhost:8080/",
          "height": 558
        },
        "id": "6-EWACEBJdZ7",
        "outputId": "ae0b6846-386c-4391-ab6b-0ac87acd52dd"
      },
      "source": [
        "plt.figure(figsize=(16,8))\n",
        "plt.title('Historical data')\n",
        "plt.plot(df['Adj Close'])\n",
        "plt.xlabel('Date',fontsize=18)\n",
        "plt.ylabel('Adj Close price ',fontsize=18)\n",
        "plt.show()\n"
      ],
      "execution_count": null,
      "outputs": [
        {
          "output_type": "display_data",
          "data": {
            "image/png": "[encoded data removed]",
            "text/plain": [
              "<Figure size 1152x576 with 1 Axes>"
            ]
          },
          "metadata": {
            "tags": []
          }
        }
      ]
    },
    {
      "cell_type": "code",
      "metadata": {
        "colab": {
          "base_uri": "https://localhost:8080/"
        },
        "id": "j6qaMy4OK6wU",
        "outputId": "d132588e-d9b2-4a58-adf4-78d36f779baf"
      },
      "source": [
        "data=df.filter(['Adj Close'])\n",
        "dataset=data.values\n",
        "training_data_len=math.ceil(len(dataset)*0.8)\n",
        "training_data_len"
      ],
      "execution_count": null,
      "outputs": [
        {
          "output_type": "execute_result",
          "data": {
            "text/plain": [
              "2100"
            ]
          },
          "metadata": {
            "tags": []
          },
          "execution_count": 29
        }
      ]
    },
    {
      "cell_type": "code",
      "metadata": {
        "colab": {
          "base_uri": "https://localhost:8080/"
        },
        "id": "3gKQ07tDLr72",
        "outputId": "bf991afc-0b2f-4075-a8c2-de1873d63cf7"
      },
      "source": [
        "#scale the data\n",
        "scaler= MinMaxScaler(feature_range=(0, 1))\n",
        "scaled_data=scaler.fit_transform(dataset)\n",
        "scaled_data"
      ],
      "execution_count": null,
      "outputs": [
        {
          "output_type": "execute_result",
          "data": {
            "text/plain": [
              "array([[0.13156277],\n",
              "       [0.1367829 ],\n",
              "       [0.12619132],\n",
              "       ...,\n",
              "       [0.8490188 ],\n",
              "       [0.84886247],\n",
              "       [0.87558893]])"
            ]
          },
          "metadata": {
            "tags": []
          },
          "execution_count": 30
        }
      ]
    },
    {
      "cell_type": "code",
      "metadata": {
        "colab": {
          "base_uri": "https://localhost:8080/"
        },
        "id": "Qkqx5_oaMabs",
        "outputId": "91334384-594b-4b89-9ed9-c848334dec46"
      },
      "source": [
        "#creatitg training data set\n",
        "#creating scaled training data set\n",
        "train_data= scaled_data[0:training_data_len,:]\n",
        "#split in x train and y train\n",
        "x_train=[]\n",
        "y_train=[]\n",
        " \n",
        "for i in range(60,len(train_data)):\n",
        "  x_train.append(train_data[i-60:i, 0])\n",
        "  y_train.append(train_data[i, 0])\n",
        "  if i<=61:\n",
        "    print(x_train)\n",
        "    print(y_train)\n",
        "    print()"
      ],
      "execution_count": null,
      "outputs": [
        {
          "output_type": "stream",
          "text": [
            "[array([0.13156277, 0.1367829 , 0.12619132, 0.12089552, 0.13178972,\n",
            "       0.13057925, 0.14495358, 0.14616405, 0.1451049 , 0.15282161,\n",
            "       0.15720957, 0.14919022, 0.14162477, 0.13753948, 0.13133582,\n",
            "       0.13073057, 0.14525619, 0.14298656, 0.13753948, 0.13950646,\n",
            "       0.14359181, 0.13451328, 0.12104684, 0.12997403, 0.13421067,\n",
            "       0.14964415, 0.15176245, 0.15130855, 0.15645303, 0.15554516,\n",
            "       0.14419703, 0.14525619, 0.14101955, 0.14359181, 0.13360545,\n",
            "       0.12815833, 0.11363271, 0.13239497, 0.13602636, 0.1311845 ,\n",
            "       0.12876358, 0.13483103, 0.12694786, 0.12498087, 0.13799338,\n",
            "       0.13602636, 0.11363271, 0.12134942, 0.11983637, 0.12089552,\n",
            "       0.09441652, 0.10924475, 0.10954739, 0.12894513, 0.12195467,\n",
            "       0.11544841, 0.12785569, 0.12467823, 0.12104684, 0.12316515])]\n",
            "[0.143743102680233]\n",
            "\n",
            "[array([0.13156277, 0.1367829 , 0.12619132, 0.12089552, 0.13178972,\n",
            "       0.13057925, 0.14495358, 0.14616405, 0.1451049 , 0.15282161,\n",
            "       0.15720957, 0.14919022, 0.14162477, 0.13753948, 0.13133582,\n",
            "       0.13073057, 0.14525619, 0.14298656, 0.13753948, 0.13950646,\n",
            "       0.14359181, 0.13451328, 0.12104684, 0.12997403, 0.13421067,\n",
            "       0.14964415, 0.15176245, 0.15130855, 0.15645303, 0.15554516,\n",
            "       0.14419703, 0.14525619, 0.14101955, 0.14359181, 0.13360545,\n",
            "       0.12815833, 0.11363271, 0.13239497, 0.13602636, 0.1311845 ,\n",
            "       0.12876358, 0.13483103, 0.12694786, 0.12498087, 0.13799338,\n",
            "       0.13602636, 0.11363271, 0.12134942, 0.11983637, 0.12089552,\n",
            "       0.09441652, 0.10924475, 0.10954739, 0.12894513, 0.12195467,\n",
            "       0.11544841, 0.12785569, 0.12467823, 0.12104684, 0.12316515]), array([0.1367829 , 0.12619132, 0.12089552, 0.13178972, 0.13057925,\n",
            "       0.14495358, 0.14616405, 0.1451049 , 0.15282161, 0.15720957,\n",
            "       0.14919022, 0.14162477, 0.13753948, 0.13133582, 0.13073057,\n",
            "       0.14525619, 0.14298656, 0.13753948, 0.13950646, 0.14359181,\n",
            "       0.13451328, 0.12104684, 0.12997403, 0.13421067, 0.14964415,\n",
            "       0.15176245, 0.15130855, 0.15645303, 0.15554516, 0.14419703,\n",
            "       0.14525619, 0.14101955, 0.14359181, 0.13360545, 0.12815833,\n",
            "       0.11363271, 0.13239497, 0.13602636, 0.1311845 , 0.12876358,\n",
            "       0.13483103, 0.12694786, 0.12498087, 0.13799338, 0.13602636,\n",
            "       0.11363271, 0.12134942, 0.11983637, 0.12089552, 0.09441652,\n",
            "       0.10924475, 0.10954739, 0.12894513, 0.12195467, 0.11544841,\n",
            "       0.12785569, 0.12467823, 0.12104684, 0.12316515, 0.1437431 ])]\n",
            "[0.143743102680233, 0.1413221861089191]\n",
            "\n"
          ],
          "name": "stdout"
        }
      ]
    },
    {
      "cell_type": "code",
      "metadata": {
        "id": "oi0FIHWix3kg"
      },
      "source": [
        "#convert x_train & y_train to numpy\n",
        "x_train,y_train=np.array(x_train),np.array(y_train)"
      ],
      "execution_count": null,
      "outputs": []
    },
    {
      "cell_type": "code",
      "metadata": {
        "colab": {
          "base_uri": "https://localhost:8080/"
        },
        "id": "7rNWBlLIyKHt",
        "outputId": "dbc54fac-06db-4a8e-d45d-d0d6805505d7"
      },
      "source": [
        "#reshape the data\n",
        "x_train=np.reshape(x_train,(x_train.shape[0],x_train.shape[1],1))\n",
        "x_train.shape"
      ],
      "execution_count": null,
      "outputs": [
        {
          "output_type": "execute_result",
          "data": {
            "text/plain": [
              "(2040, 60, 1)"
            ]
          },
          "metadata": {
            "tags": []
          },
          "execution_count": 17
        }
      ]
    },
    {
      "cell_type": "code",
      "metadata": {
        "id": "10gTy6Cmy2oz"
      },
      "source": [
        "#build the lstm model\n",
        "model=Sequential()\n",
        "model.add(LSTM(50,return_sequences=True,input_shape=(x_train.shape[1],1)))\n",
        "model.add(LSTM(50,return_sequences=False))\n",
        "model.add(Dense(25))\n",
        "model.add(Dense(1))\n",
        "\n"
      ],
      "execution_count": null,
      "outputs": []
    },
    {
      "cell_type": "code",
      "metadata": {
        "id": "T2paUfQi0Eq9"
      },
      "source": [
        "#compile the model\n",
        "model.compile(optimizer='adam',loss='mean_squared_error')"
      ],
      "execution_count": null,
      "outputs": []
    },
    {
      "cell_type": "code",
      "metadata": {
        "colab": {
          "base_uri": "https://localhost:8080/"
        },
        "id": "V0gTmd830bjk",
        "outputId": "575b4bef-a31c-40b2-963b-fe9d5fd50bc5"
      },
      "source": [
        "#train the model\n",
        "model.fit(x_train,y_train,batch_size=1,epochs=1)"
      ],
      "execution_count": null,
      "outputs": [
        {
          "output_type": "stream",
          "text": [
            "2040/2040 [==============================] - 65s 23ms/step - loss: 0.0021\n"
          ],
          "name": "stdout"
        },
        {
          "output_type": "execute_result",
          "data": {
            "text/plain": [
              "<keras.callbacks.History at 0x7ff209bf4ed0>"
            ]
          },
          "metadata": {
            "tags": []
          },
          "execution_count": 20
        }
      ]
    },
    {
      "cell_type": "code",
      "metadata": {
        "id": "2SwaoLJP1Fwo"
      },
      "source": [
        "#Create the testing data set\n",
        "#Create a new array contaiing scaled values from index 2040 to 2624\n",
        "test_data=scaled_data[training_data_len-60:,:]\n",
        "#create the x_test and y_test\n",
        "x_test=[]\n",
        "y_test=dataset[training_data_len:,:]    #want our model to predict\n",
        "for i in range(60,len(test_data)):\n",
        "  x_test.append(test_data[i-60:i,0])   #past 60 values"
      ],
      "execution_count": null,
      "outputs": []
    },
    {
      "cell_type": "code",
      "metadata": {
        "id": "-_XdodZT2kyV"
      },
      "source": [
        "#convert data to numpy array\n",
        "x_test=np.array(x_test)\n"
      ],
      "execution_count": null,
      "outputs": []
    },
    {
      "cell_type": "code",
      "metadata": {
        "id": "61x7G-G520q5"
      },
      "source": [
        "#reshape the data\n",
        "x_test=np.reshape(x_test,(x_test.shape[0],x_test.shape[1],1))\n",
        "#x_test"
      ],
      "execution_count": null,
      "outputs": []
    },
    {
      "cell_type": "code",
      "metadata": {
        "id": "awq4xr4s3OHt"
      },
      "source": [
        "#get the models preddicted values\n",
        "predictions=model.predict(x_test)\n",
        "predictions=scaler.inverse_transform(predictions)"
      ],
      "execution_count": null,
      "outputs": []
    },
    {
      "cell_type": "code",
      "metadata": {
        "colab": {
          "base_uri": "https://localhost:8080/"
        },
        "id": "8KAxPulz4TI_",
        "outputId": "18b020f3-991a-43da-f074-7ad6dcec349b"
      },
      "source": [
        "#Get the root mean squared error(RMSE)\n",
        "rmse=np.sqrt(np.mean(((predictions- y_test)**2)))\n",
        "rmse"
      ],
      "execution_count": null,
      "outputs": [
        {
          "output_type": "execute_result",
          "data": {
            "text/plain": [
              "1.0439157084257906"
            ]
          },
          "metadata": {
            "tags": []
          },
          "execution_count": 25
        }
      ]
    },
    {
      "cell_type": "code",
      "metadata": {
        "colab": {
          "base_uri": "https://localhost:8080/",
          "height": 660
        },
        "id": "zNcgFIrc4Wyo",
        "outputId": "a4c7cfeb-082c-42f9-f7fb-a31bba713d90"
      },
      "source": [
        "#Plot the data\n",
        "train=data[:training_data_len]\n",
        "valid=data[training_data_len:]\n",
        "valid['Predictions']=predictions\n",
        "#Visu;aize the model\n",
        "plt.figure(figsize=(16,8))\n",
        "plt.title('Model')\n",
        "plt.xlabel('Date',fontsize=18)\n",
        "plt.ylabel('Adj Close price',fontsize=18)\n",
        "plt.plot(train['Adj Close'])\n",
        "plt.plot(valid[['Adj Close','Predictions']])\n",
        "plt.legend(['Train','Val','Predictions'],loc='lower right')\n",
        "plt.show()\n"
      ],
      "execution_count": null,
      "outputs": [
        {
          "output_type": "stream",
          "text": [
            "/usr/local/lib/python3.7/dist-packages/ipykernel_launcher.py:4: SettingWithCopyWarning: \n",
            "A value is trying to be set on a copy of a slice from a DataFrame.\n",
            "Try using .loc[row_indexer,col_indexer] = value instead\n",
            "\n",
            "See the caveats in the documentation: https://pandas.pydata.org/pandas-docs/stable/user_guide/indexing.html#returning-a-view-versus-a-copy\n",
            "  after removing the cwd from sys.path.\n"
          ],
          "name": "stderr"
        },
        {
          "output_type": "display_data",
          "data": {
            "image/png": "[encoded data removed]",
            "text/plain": [
              "<Figure size 1152x576 with 1 Axes>"
            ]
          },
          "metadata": {
            "tags": []
          }
        }
      ]
    },
    {
      "cell_type": "code",
      "metadata": {
        "colab": {
          "base_uri": "https://localhost:8080/",
          "height": 450
        },
        "id": "DbqR8xvI6hIc",
        "outputId": "1975af31-8c87-4c5b-caab-943c450cd188"
      },
      "source": [
        "#Show the valid and predicted prices\n",
        "valid\n"
      ],
      "execution_count": null,
      "outputs": [
        {
          "output_type": "execute_result",
          "data": {
            "text/html": [
              "<div>\n",
              "<style scoped>\n",
              "    .dataframe tbody tr th:only-of-type {\n",
              "        vertical-align: middle;\n",
              "    }\n",
              "\n",
              "    .dataframe tbody tr th {\n",
              "        vertical-align: top;\n",
              "    }\n",
              "\n",
              "    .dataframe thead th {\n",
              "        text-align: right;\n",
              "    }\n",
              "</style>\n",
              "<table border=\"1\" class=\"dataframe\">\n",
              "  <thead>\n",
              "    <tr style=\"text-align: right;\">\n",
              "      <th></th>\n",
              "      <th>Close</th>\n",
              "      <th>Predictions</th>\n",
              "    </tr>\n",
              "    <tr>\n",
              "      <th>Date</th>\n",
              "      <th></th>\n",
              "      <th></th>\n",
              "    </tr>\n",
              "  </thead>\n",
              "  <tbody>\n",
              "    <tr>\n",
              "      <th>2019-05-09</th>\n",
              "      <td>17.590000</td>\n",
              "      <td>18.119122</td>\n",
              "    </tr>\n",
              "    <tr>\n",
              "      <th>2019-05-10</th>\n",
              "      <td>17.170000</td>\n",
              "      <td>18.027517</td>\n",
              "    </tr>\n",
              "    <tr>\n",
              "      <th>2019-05-13</th>\n",
              "      <td>16.760000</td>\n",
              "      <td>17.878103</td>\n",
              "    </tr>\n",
              "    <tr>\n",
              "      <th>2019-05-14</th>\n",
              "      <td>16.830000</td>\n",
              "      <td>17.647787</td>\n",
              "    </tr>\n",
              "    <tr>\n",
              "      <th>2019-05-15</th>\n",
              "      <td>16.920000</td>\n",
              "      <td>17.454206</td>\n",
              "    </tr>\n",
              "    <tr>\n",
              "      <th>...</th>\n",
              "      <td>...</td>\n",
              "      <td>...</td>\n",
              "    </tr>\n",
              "    <tr>\n",
              "      <th>2021-06-01</th>\n",
              "      <td>36.669998</td>\n",
              "      <td>36.527626</td>\n",
              "    </tr>\n",
              "    <tr>\n",
              "      <th>2021-06-02</th>\n",
              "      <td>37.720001</td>\n",
              "      <td>37.238857</td>\n",
              "    </tr>\n",
              "    <tr>\n",
              "      <th>2021-06-03</th>\n",
              "      <td>37.500000</td>\n",
              "      <td>38.077194</td>\n",
              "    </tr>\n",
              "    <tr>\n",
              "      <th>2021-06-04</th>\n",
              "      <td>37.494999</td>\n",
              "      <td>38.672401</td>\n",
              "    </tr>\n",
              "    <tr>\n",
              "      <th>2021-06-07</th>\n",
              "      <td>38.349998</td>\n",
              "      <td>39.021080</td>\n",
              "    </tr>\n",
              "  </tbody>\n",
              "</table>\n",
              "<p>524 rows × 2 columns</p>\n",
              "</div>"
            ],
            "text/plain": [
              "                Close  Predictions\n",
              "Date                              \n",
              "2019-05-09  17.590000    18.119122\n",
              "2019-05-10  17.170000    18.027517\n",
              "2019-05-13  16.760000    17.878103\n",
              "2019-05-14  16.830000    17.647787\n",
              "2019-05-15  16.920000    17.454206\n",
              "...               ...          ...\n",
              "2021-06-01  36.669998    36.527626\n",
              "2021-06-02  37.720001    37.238857\n",
              "2021-06-03  37.500000    38.077194\n",
              "2021-06-04  37.494999    38.672401\n",
              "2021-06-07  38.349998    39.021080\n",
              "\n",
              "[524 rows x 2 columns]"
            ]
          },
          "metadata": {
            "tags": []
          },
          "execution_count": 27
        }
      ]
    },
    {
      "cell_type": "code",
      "metadata": {
        "colab": {
          "base_uri": "https://localhost:8080/"
        },
        "id": "UNmNMbZ26zeu",
        "outputId": "43e1d52c-1aaf-4be0-cc38-0477ad930782"
      },
      "source": [
        "#Get the quote\n",
        "vy_quote=web.DataReader('VWAGY',data_source='yahoo', start='2011-01-01',end='2021-06-07')\n",
        "#create a new data frame\n",
        "new_df=vy_quote.filter(['Adj Close'])\n",
        "#Get the last 60 days closing price values and convert the data frame to array\n",
        "last_60_days=new_df[-60:].values\n",
        "#Scale the data\n",
        "last_60_days_scaled=scaler.transform(last_60_days)\n",
        "#Create an empty list\n",
        "X_test=[]\n",
        "#Append the past 60 days \n",
        "X_test.append(last_60_days_scaled)\n",
        "#Convert X_test to numpy array\n",
        "X_test=np.array(X_test)\n",
        "#Reshape to 3 dim\n",
        "X_test=np.reshape(X_test,(X_test.shape[0],X_test.shape[1],1))\n",
        "#Get the predicted scaled prixes\n",
        "pred_price=model.predict(X_test)\n",
        "#Undo the scaling\n",
        "pred_price=scaler.inverse_transform(pred_price)\n",
        "print(pred_price)\n"
      ],
      "execution_count": null,
      "outputs": [
        {
          "output_type": "stream",
          "text": [
            "[[39.452126]]\n"
          ],
          "name": "stdout"
        }
      ]
    },
    {
      "cell_type": "code",
      "metadata": {
        "colab": {
          "base_uri": "https://localhost:8080/"
        },
        "id": "9_HtT5OI9hmc",
        "outputId": "3f316865-db27-4e31-9960-4bd30ba33b73"
      },
      "source": [
        "#Get the Actual data\n",
        "vy_quote2=web.DataReader('VWAGY',data_source='yahoo', start='2021-06-08',end='2021-06-08')\n",
        "print(vy_quote2['Adj Close'])\n"
      ],
      "execution_count": null,
      "outputs": [
        {
          "output_type": "stream",
          "text": [
            "Date\n",
            "2021-06-08    36.740002\n",
            "Name: Adj Close, dtype: float64\n"
          ],
          "name": "stdout"
        }
      ]
    }
  ]
}