{
  "nbformat": 4,
  "nbformat_minor": 0,
  "metadata": {
    "colab": {
      "name": "LSTM_HP.ipynb",
      "provenance": [],
      "authorship_tag": "ABX9TyN8R9BskV9bgz7WBRx2bcPk",
      "include_colab_link": true
    },
    "kernelspec": {
      "name": "python3",
      "display_name": "Python 3"
    },
    "language_info": {
      "name": "python"
    }
  },
  "cells": [
    {
      "cell_type": "markdown",
      "metadata": {
        "id": "view-in-github",
        "colab_type": "text"
      },
      "source": [
        "<a href=\"https://colab.research.google.com/github/Muskan520/Stock-prediction-models/blob/main/LSTM_HP.ipynb\" target=\"_parent\"><img src=\"https://colab.research.google.com/assets/colab-badge.svg\" alt=\"Open In Colab\"/></a>"
      ]
    },
    {
      "cell_type": "code",
      "metadata": {
        "id": "HeuS9RFa0PAU"
      },
      "source": [
        "#Predicting adjusting stock price using lstm"
      ],
      "execution_count": null,
      "outputs": []
    },
    {
      "cell_type": "code",
      "metadata": {
        "id": "bVnJfeonDea6"
      },
      "source": [
        "import math\n",
        "import numpy as np\n",
        "import pandas_datareader as web \n",
        "import pandas as pd\n",
        "from sklearn.preprocessing import MinMaxScaler\n",
        "from keras.models import Sequential\n",
        "from keras.layers import Dense, LSTM\n",
        "import matplotlib.pyplot as plt\n",
        "plt.style.use('fivethirtyeight')"
      ],
      "execution_count": null,
      "outputs": []
    },
    {
      "cell_type": "code",
      "metadata": {
        "colab": {
          "base_uri": "https://localhost:8080/",
          "height": 450
        },
        "id": "P-OolmojEtBr",
        "outputId": "480be2da-e6d4-4bfa-ac8b-e831d1e65178"
      },
      "source": [
        "#get data HP\n",
        "df=web.DataReader('HP',data_source='yahoo', start='2011-01-01',end='2021-06-07')\n",
        "df\n"
      ],
      "execution_count": null,
      "outputs": [
        {
          "output_type": "execute_result",
          "data": {
            "text/html": [
              "<div>\n",
              "<style scoped>\n",
              "    .dataframe tbody tr th:only-of-type {\n",
              "        vertical-align: middle;\n",
              "    }\n",
              "\n",
              "    .dataframe tbody tr th {\n",
              "        vertical-align: top;\n",
              "    }\n",
              "\n",
              "    .dataframe thead th {\n",
              "        text-align: right;\n",
              "    }\n",
              "</style>\n",
              "<table border=\"1\" class=\"dataframe\">\n",
              "  <thead>\n",
              "    <tr style=\"text-align: right;\">\n",
              "      <th></th>\n",
              "      <th>High</th>\n",
              "      <th>Low</th>\n",
              "      <th>Open</th>\n",
              "      <th>Close</th>\n",
              "      <th>Volume</th>\n",
              "      <th>Adj Close</th>\n",
              "    </tr>\n",
              "    <tr>\n",
              "      <th>Date</th>\n",
              "      <th></th>\n",
              "      <th></th>\n",
              "      <th></th>\n",
              "      <th></th>\n",
              "      <th></th>\n",
              "      <th></th>\n",
              "    </tr>\n",
              "  </thead>\n",
              "  <tbody>\n",
              "    <tr>\n",
              "      <th>2011-01-03</th>\n",
              "      <td>49.459999</td>\n",
              "      <td>48.849998</td>\n",
              "      <td>49.099998</td>\n",
              "      <td>49.040001</td>\n",
              "      <td>1024000.0</td>\n",
              "      <td>32.691223</td>\n",
              "    </tr>\n",
              "    <tr>\n",
              "      <th>2011-01-04</th>\n",
              "      <td>49.490002</td>\n",
              "      <td>47.759998</td>\n",
              "      <td>49.290001</td>\n",
              "      <td>48.110001</td>\n",
              "      <td>822900.0</td>\n",
              "      <td>32.071285</td>\n",
              "    </tr>\n",
              "    <tr>\n",
              "      <th>2011-01-05</th>\n",
              "      <td>49.570000</td>\n",
              "      <td>47.529999</td>\n",
              "      <td>47.779999</td>\n",
              "      <td>49.220001</td>\n",
              "      <td>1265400.0</td>\n",
              "      <td>32.811230</td>\n",
              "    </tr>\n",
              "    <tr>\n",
              "      <th>2011-01-06</th>\n",
              "      <td>49.330002</td>\n",
              "      <td>47.700001</td>\n",
              "      <td>49.259998</td>\n",
              "      <td>48.410000</td>\n",
              "      <td>1535500.0</td>\n",
              "      <td>32.271263</td>\n",
              "    </tr>\n",
              "    <tr>\n",
              "      <th>2011-01-07</th>\n",
              "      <td>49.000000</td>\n",
              "      <td>48.180000</td>\n",
              "      <td>48.419998</td>\n",
              "      <td>48.889999</td>\n",
              "      <td>1165400.0</td>\n",
              "      <td>32.591248</td>\n",
              "    </tr>\n",
              "    <tr>\n",
              "      <th>...</th>\n",
              "      <td>...</td>\n",
              "      <td>...</td>\n",
              "      <td>...</td>\n",
              "      <td>...</td>\n",
              "      <td>...</td>\n",
              "      <td>...</td>\n",
              "    </tr>\n",
              "    <tr>\n",
              "      <th>2021-06-01</th>\n",
              "      <td>30.059999</td>\n",
              "      <td>28.969999</td>\n",
              "      <td>29.049999</td>\n",
              "      <td>30.059999</td>\n",
              "      <td>1735900.0</td>\n",
              "      <td>30.059999</td>\n",
              "    </tr>\n",
              "    <tr>\n",
              "      <th>2021-06-02</th>\n",
              "      <td>32.700001</td>\n",
              "      <td>30.070000</td>\n",
              "      <td>30.370001</td>\n",
              "      <td>32.349998</td>\n",
              "      <td>2201900.0</td>\n",
              "      <td>32.349998</td>\n",
              "    </tr>\n",
              "    <tr>\n",
              "      <th>2021-06-03</th>\n",
              "      <td>33.099998</td>\n",
              "      <td>31.700001</td>\n",
              "      <td>32.349998</td>\n",
              "      <td>33.029999</td>\n",
              "      <td>2164500.0</td>\n",
              "      <td>33.029999</td>\n",
              "    </tr>\n",
              "    <tr>\n",
              "      <th>2021-06-04</th>\n",
              "      <td>33.650002</td>\n",
              "      <td>32.490002</td>\n",
              "      <td>33.299999</td>\n",
              "      <td>33.490002</td>\n",
              "      <td>1198500.0</td>\n",
              "      <td>33.490002</td>\n",
              "    </tr>\n",
              "    <tr>\n",
              "      <th>2021-06-07</th>\n",
              "      <td>33.779999</td>\n",
              "      <td>32.389999</td>\n",
              "      <td>33.590000</td>\n",
              "      <td>32.500000</td>\n",
              "      <td>1045100.0</td>\n",
              "      <td>32.500000</td>\n",
              "    </tr>\n",
              "  </tbody>\n",
              "</table>\n",
              "<p>2624 rows × 6 columns</p>\n",
              "</div>"
            ],
            "text/plain": [
              "                 High        Low       Open      Close     Volume  Adj Close\n",
              "Date                                                                        \n",
              "2011-01-03  49.459999  48.849998  49.099998  49.040001  1024000.0  32.691223\n",
              "2011-01-04  49.490002  47.759998  49.290001  48.110001   822900.0  32.071285\n",
              "2011-01-05  49.570000  47.529999  47.779999  49.220001  1265400.0  32.811230\n",
              "2011-01-06  49.330002  47.700001  49.259998  48.410000  1535500.0  32.271263\n",
              "2011-01-07  49.000000  48.180000  48.419998  48.889999  1165400.0  32.591248\n",
              "...               ...        ...        ...        ...        ...        ...\n",
              "2021-06-01  30.059999  28.969999  29.049999  30.059999  1735900.0  30.059999\n",
              "2021-06-02  32.700001  30.070000  30.370001  32.349998  2201900.0  32.349998\n",
              "2021-06-03  33.099998  31.700001  32.349998  33.029999  2164500.0  33.029999\n",
              "2021-06-04  33.650002  32.490002  33.299999  33.490002  1198500.0  33.490002\n",
              "2021-06-07  33.779999  32.389999  33.590000  32.500000  1045100.0  32.500000\n",
              "\n",
              "[2624 rows x 6 columns]"
            ]
          },
          "metadata": {
            "tags": []
          },
          "execution_count": 2
        }
      ]
    },
    {
      "cell_type": "code",
      "metadata": {
        "colab": {
          "base_uri": "https://localhost:8080/"
        },
        "id": "sj3XTaPhJU5M",
        "outputId": "1266146b-57f4-4689-a7fd-66865161b870"
      },
      "source": [
        "df.shape"
      ],
      "execution_count": null,
      "outputs": [
        {
          "output_type": "execute_result",
          "data": {
            "text/plain": [
              "(2624, 6)"
            ]
          },
          "metadata": {
            "tags": []
          },
          "execution_count": 7
        }
      ]
    },
    {
      "cell_type": "code",
      "metadata": {
        "colab": {
          "base_uri": "https://localhost:8080/",
          "height": 518
        },
        "id": "6-EWACEBJdZ7",
        "outputId": "614810ae-67da-4cf5-ffd7-e449613cdf17"
      },
      "source": [
        "plt.figure(figsize=(16,8))\n",
        "plt.title('Historical data')\n",
        "plt.plot(df['Adj Close'])\n",
        "plt.xlabel('Date',fontsize=18)\n",
        "plt.ylabel('Adj Close price ',fontsize=18)\n",
        "plt.show()\n"
      ],
      "execution_count": null,
      "outputs": [
        {
          "output_type": "display_data",
          "data": {
            "image/png": "[encoded data removed]",
            "text/plain": [
              "<Figure size 1152x576 with 1 Axes>"
            ]
          },
          "metadata": {
            "tags": [],
            "needs_background": "light"
          }
        }
      ]
    },
    {
      "cell_type": "code",
      "metadata": {
        "colab": {
          "base_uri": "https://localhost:8080/"
        },
        "id": "j6qaMy4OK6wU",
        "outputId": "01f384c1-a0ae-4b07-f1e6-e3ba5436cd55"
      },
      "source": [
        "data=df.filter(['Adj Close'])\n",
        "dataset=data.values\n",
        "training_data_len=math.ceil(len(dataset)*0.8)\n",
        "training_data_len"
      ],
      "execution_count": null,
      "outputs": [
        {
          "output_type": "execute_result",
          "data": {
            "text/plain": [
              "2100"
            ]
          },
          "metadata": {
            "tags": []
          },
          "execution_count": 8
        }
      ]
    },
    {
      "cell_type": "code",
      "metadata": {
        "colab": {
          "base_uri": "https://localhost:8080/"
        },
        "id": "3gKQ07tDLr72",
        "outputId": "2567b7c8-fd24-4a84-cf60-558ab5f0b5c9"
      },
      "source": [
        "#scale the data\n",
        "scaler= MinMaxScaler(feature_range=(0, 1))\n",
        "scaled_data=scaler.fit_transform(dataset)\n",
        "scaled_data"
      ],
      "execution_count": null,
      "outputs": [
        {
          "output_type": "execute_result",
          "data": {
            "text/plain": [
              "array([[0.29770165],\n",
              "       [0.28891199],\n",
              "       [0.29940313],\n",
              "       ...,\n",
              "       [0.3025049 ],\n",
              "       [0.30902695],\n",
              "       [0.29499043]])"
            ]
          },
          "metadata": {
            "tags": []
          },
          "execution_count": 9
        }
      ]
    },
    {
      "cell_type": "code",
      "metadata": {
        "colab": {
          "base_uri": "https://localhost:8080/"
        },
        "id": "Qkqx5_oaMabs",
        "outputId": "f6663a4d-631d-442a-a791-8a71cc90bbc6"
      },
      "source": [
        "#creatitg training data set\n",
        "#creating scaled training data set\n",
        "train_data= scaled_data[0:training_data_len,:]\n",
        "#split in x train and y train\n",
        "x_train=[]\n",
        "y_train=[]\n",
        " \n",
        "for i in range(60,len(train_data)):\n",
        "  x_train.append(train_data[i-60:i, 0])\n",
        "  y_train.append(train_data[i, 0])\n",
        "  if i<=61:\n",
        "    print(x_train)\n",
        "    print(y_train)\n",
        "    print()"
      ],
      "execution_count": null,
      "outputs": [
        {
          "output_type": "stream",
          "text": [
            "[array([0.29770165, 0.28891199, 0.29940313, 0.29174734, 0.29628416,\n",
            "       0.29316498, 0.29590594, 0.30762602, 0.30412883, 0.3139586 ,\n",
            "       0.32520592, 0.31660497, 0.31263523, 0.31272977, 0.31216268,\n",
            "       0.3053576 , 0.32388271, 0.37047917, 0.36698193, 0.38928758,\n",
            "       0.39165043, 0.39240649, 0.39344629, 0.39278461, 0.39751046,\n",
            "       0.40129112, 0.3913668 , 0.39656526, 0.39467301, 0.40328278,\n",
            "       0.40337726, 0.41728522, 0.41681224, 0.42220498, 0.41842054,\n",
            "       0.43053068, 0.42012337, 0.44708792, 0.44907455, 0.43251752,\n",
            "       0.43715349, 0.44283023, 0.44027565, 0.43336905, 0.43232833,\n",
            "       0.4244755 , 0.4060265 , 0.41747436, 0.41993424, 0.41955596,\n",
            "       0.40725641, 0.43223363, 0.41302775, 0.43327435, 0.43232833,\n",
            "       0.4372483 , 0.44046495, 0.45323754, 0.46099539, 0.47802562])]\n",
            "[0.47367333215597474]\n",
            "\n",
            "[array([0.29770165, 0.28891199, 0.29940313, 0.29174734, 0.29628416,\n",
            "       0.29316498, 0.29590594, 0.30762602, 0.30412883, 0.3139586 ,\n",
            "       0.32520592, 0.31660497, 0.31263523, 0.31272977, 0.31216268,\n",
            "       0.3053576 , 0.32388271, 0.37047917, 0.36698193, 0.38928758,\n",
            "       0.39165043, 0.39240649, 0.39344629, 0.39278461, 0.39751046,\n",
            "       0.40129112, 0.3913668 , 0.39656526, 0.39467301, 0.40328278,\n",
            "       0.40337726, 0.41728522, 0.41681224, 0.42220498, 0.41842054,\n",
            "       0.43053068, 0.42012337, 0.44708792, 0.44907455, 0.43251752,\n",
            "       0.43715349, 0.44283023, 0.44027565, 0.43336905, 0.43232833,\n",
            "       0.4244755 , 0.4060265 , 0.41747436, 0.41993424, 0.41955596,\n",
            "       0.40725641, 0.43223363, 0.41302775, 0.43327435, 0.43232833,\n",
            "       0.4372483 , 0.44046495, 0.45323754, 0.46099539, 0.47802562]), array([0.28891199, 0.29940313, 0.29174734, 0.29628416, 0.29316498,\n",
            "       0.29590594, 0.30762602, 0.30412883, 0.3139586 , 0.32520592,\n",
            "       0.31660497, 0.31263523, 0.31272977, 0.31216268, 0.3053576 ,\n",
            "       0.32388271, 0.37047917, 0.36698193, 0.38928758, 0.39165043,\n",
            "       0.39240649, 0.39344629, 0.39278461, 0.39751046, 0.40129112,\n",
            "       0.3913668 , 0.39656526, 0.39467301, 0.40328278, 0.40337726,\n",
            "       0.41728522, 0.41681224, 0.42220498, 0.41842054, 0.43053068,\n",
            "       0.42012337, 0.44708792, 0.44907455, 0.43251752, 0.43715349,\n",
            "       0.44283023, 0.44027565, 0.43336905, 0.43232833, 0.4244755 ,\n",
            "       0.4060265 , 0.41747436, 0.41993424, 0.41955596, 0.40725641,\n",
            "       0.43223363, 0.41302775, 0.43327435, 0.43232833, 0.4372483 ,\n",
            "       0.44046495, 0.45323754, 0.46099539, 0.47802562, 0.47367333])]\n",
            "[0.47367333215597474, 0.48408069169190526]\n",
            "\n"
          ],
          "name": "stdout"
        }
      ]
    },
    {
      "cell_type": "code",
      "metadata": {
        "id": "oi0FIHWix3kg"
      },
      "source": [
        "#convert x_train & y_train to numpy\n",
        "x_train,y_train=np.array(x_train),np.array(y_train)"
      ],
      "execution_count": null,
      "outputs": []
    },
    {
      "cell_type": "code",
      "metadata": {
        "colab": {
          "base_uri": "https://localhost:8080/"
        },
        "id": "7rNWBlLIyKHt",
        "outputId": "c81147bd-63bf-462a-f05a-021b2742ed45"
      },
      "source": [
        "#reshape the data\n",
        "x_train=np.reshape(x_train,(x_train.shape[0],x_train.shape[1],1))\n",
        "x_train.shape"
      ],
      "execution_count": null,
      "outputs": [
        {
          "output_type": "execute_result",
          "data": {
            "text/plain": [
              "(2040, 60, 1)"
            ]
          },
          "metadata": {
            "tags": []
          },
          "execution_count": 12
        }
      ]
    },
    {
      "cell_type": "code",
      "metadata": {
        "id": "10gTy6Cmy2oz"
      },
      "source": [
        "#build the lstm model\n",
        "model=Sequential()\n",
        "model.add(LSTM(50,return_sequences=True,input_shape=(x_train.shape[1],1)))\n",
        "model.add(LSTM(50,return_sequences=False))\n",
        "model.add(Dense(25))\n",
        "model.add(Dense(1))\n",
        "\n"
      ],
      "execution_count": null,
      "outputs": []
    },
    {
      "cell_type": "code",
      "metadata": {
        "id": "T2paUfQi0Eq9"
      },
      "source": [
        "#compile the model\n",
        "model.compile(optimizer='adam',loss='mean_squared_error')"
      ],
      "execution_count": null,
      "outputs": []
    },
    {
      "cell_type": "code",
      "metadata": {
        "colab": {
          "base_uri": "https://localhost:8080/"
        },
        "id": "V0gTmd830bjk",
        "outputId": "893913b4-6b5d-4c35-ba96-c8d5b1c3f369"
      },
      "source": [
        "#train the model\n",
        "model.fit(x_train,y_train,batch_size=1,epochs=1)"
      ],
      "execution_count": null,
      "outputs": [
        {
          "output_type": "stream",
          "text": [
            "2040/2040 [==============================] - 68s 24ms/step - loss: 0.0056\n"
          ],
          "name": "stdout"
        },
        {
          "output_type": "execute_result",
          "data": {
            "text/plain": [
              "<keras.callbacks.History at 0x7f4811cbac90>"
            ]
          },
          "metadata": {
            "tags": []
          },
          "execution_count": 15
        }
      ]
    },
    {
      "cell_type": "code",
      "metadata": {
        "id": "2SwaoLJP1Fwo"
      },
      "source": [
        "#Create the testing data set\n",
        "#Create a new array contaiing scaled values from index 2040 to 2624\n",
        "test_data=scaled_data[training_data_len-60:,:]\n",
        "#create the x_test and y_test\n",
        "x_test=[]\n",
        "y_test=dataset[training_data_len:,:]    #want our model to predict\n",
        "for i in range(60,len(test_data)):\n",
        "  x_test.append(test_data[i-60:i,0])   #past 60 values"
      ],
      "execution_count": null,
      "outputs": []
    },
    {
      "cell_type": "code",
      "metadata": {
        "id": "-_XdodZT2kyV"
      },
      "source": [
        "#convert data to numpy array\n",
        "x_test=np.array(x_test)\n"
      ],
      "execution_count": null,
      "outputs": []
    },
    {
      "cell_type": "code",
      "metadata": {
        "id": "61x7G-G520q5"
      },
      "source": [
        "#reshape the data\n",
        "x_test=np.reshape(x_test,(x_test.shape[0],x_test.shape[1],1))\n",
        "#x_test"
      ],
      "execution_count": null,
      "outputs": []
    },
    {
      "cell_type": "code",
      "metadata": {
        "id": "awq4xr4s3OHt"
      },
      "source": [
        "#get the models preddicted values\n",
        "predictions=model.predict(x_test)\n",
        "predictions=scaler.inverse_transform(predictions)"
      ],
      "execution_count": null,
      "outputs": []
    },
    {
      "cell_type": "code",
      "metadata": {
        "colab": {
          "base_uri": "https://localhost:8080/"
        },
        "id": "8KAxPulz4TI_",
        "outputId": "d7a930a9-67f3-41a0-844a-b2c961638391"
      },
      "source": [
        "#Get the root mean squared error(RMSE)\n",
        "rmse=np.sqrt(np.mean(((predictions- y_test)**2)))\n",
        "rmse"
      ],
      "execution_count": null,
      "outputs": [
        {
          "output_type": "execute_result",
          "data": {
            "text/plain": [
              "2.2847083106362724"
            ]
          },
          "metadata": {
            "tags": []
          },
          "execution_count": 20
        }
      ]
    },
    {
      "cell_type": "code",
      "metadata": {
        "colab": {
          "base_uri": "https://localhost:8080/",
          "height": 620
        },
        "id": "zNcgFIrc4Wyo",
        "outputId": "7fa07820-bd38-424f-80a7-f6af4a8220ef"
      },
      "source": [
        "#Plot the data\n",
        "train=data[:training_data_len]\n",
        "valid=data[training_data_len:]\n",
        "valid['Predictions']=predictions\n",
        "#Visu;aize the model\n",
        "plt.figure(figsize=(16,8))\n",
        "plt.title('Model')\n",
        "plt.xlabel('Date',fontsize=18)\n",
        "plt.ylabel('Adj Close price',fontsize=18)\n",
        "plt.plot(train['Adj Close'])\n",
        "plt.plot(valid[['Adj Close','Predictions']])\n",
        "plt.legend(['Train','Val','Predictions'],loc='lower right')\n",
        "plt.show()\n"
      ],
      "execution_count": null,
      "outputs": [
        {
          "output_type": "stream",
          "text": [
            "/usr/local/lib/python3.7/dist-packages/ipykernel_launcher.py:4: SettingWithCopyWarning: \n",
            "A value is trying to be set on a copy of a slice from a DataFrame.\n",
            "Try using .loc[row_indexer,col_indexer] = value instead\n",
            "\n",
            "See the caveats in the documentation: https://pandas.pydata.org/pandas-docs/stable/user_guide/indexing.html#returning-a-view-versus-a-copy\n",
            "  after removing the cwd from sys.path.\n"
          ],
          "name": "stderr"
        },
        {
          "output_type": "display_data",
          "data": {
            "image/png": "[encoded data removed]",
            "text/plain": [
              "<Figure size 1152x576 with 1 Axes>"
            ]
          },
          "metadata": {
            "tags": [],
            "needs_background": "light"
          }
        }
      ]
    },
    {
      "cell_type": "code",
      "metadata": {
        "colab": {
          "base_uri": "https://localhost:8080/",
          "height": 450
        },
        "id": "DbqR8xvI6hIc",
        "outputId": "2124ec5b-15b7-44e0-b290-fd687487103a"
      },
      "source": [
        "#Show the valid and predicted prices\n",
        "valid\n"
      ],
      "execution_count": null,
      "outputs": [
        {
          "output_type": "execute_result",
          "data": {
            "text/html": [
              "<div>\n",
              "<style scoped>\n",
              "    .dataframe tbody tr th:only-of-type {\n",
              "        vertical-align: middle;\n",
              "    }\n",
              "\n",
              "    .dataframe tbody tr th {\n",
              "        vertical-align: top;\n",
              "    }\n",
              "\n",
              "    .dataframe thead th {\n",
              "        text-align: right;\n",
              "    }\n",
              "</style>\n",
              "<table border=\"1\" class=\"dataframe\">\n",
              "  <thead>\n",
              "    <tr style=\"text-align: right;\">\n",
              "      <th></th>\n",
              "      <th>Adj Close</th>\n",
              "      <th>Predictions</th>\n",
              "    </tr>\n",
              "    <tr>\n",
              "      <th>Date</th>\n",
              "      <th></th>\n",
              "      <th></th>\n",
              "    </tr>\n",
              "  </thead>\n",
              "  <tbody>\n",
              "    <tr>\n",
              "      <th>2019-05-09</th>\n",
              "      <td>50.154713</td>\n",
              "      <td>49.271393</td>\n",
              "    </tr>\n",
              "    <tr>\n",
              "      <th>2019-05-10</th>\n",
              "      <td>49.928833</td>\n",
              "      <td>49.619884</td>\n",
              "    </tr>\n",
              "    <tr>\n",
              "      <th>2019-05-13</th>\n",
              "      <td>49.416256</td>\n",
              "      <td>49.951553</td>\n",
              "    </tr>\n",
              "    <tr>\n",
              "      <th>2019-05-14</th>\n",
              "      <td>51.101688</td>\n",
              "      <td>50.090065</td>\n",
              "    </tr>\n",
              "    <tr>\n",
              "      <th>2019-05-15</th>\n",
              "      <td>50.328472</td>\n",
              "      <td>50.517105</td>\n",
              "    </tr>\n",
              "    <tr>\n",
              "      <th>...</th>\n",
              "      <td>...</td>\n",
              "      <td>...</td>\n",
              "    </tr>\n",
              "    <tr>\n",
              "      <th>2021-06-01</th>\n",
              "      <td>30.059999</td>\n",
              "      <td>29.601782</td>\n",
              "    </tr>\n",
              "    <tr>\n",
              "      <th>2021-06-02</th>\n",
              "      <td>32.349998</td>\n",
              "      <td>29.938478</td>\n",
              "    </tr>\n",
              "    <tr>\n",
              "      <th>2021-06-03</th>\n",
              "      <td>33.029999</td>\n",
              "      <td>30.813683</td>\n",
              "    </tr>\n",
              "    <tr>\n",
              "      <th>2021-06-04</th>\n",
              "      <td>33.490002</td>\n",
              "      <td>31.884357</td>\n",
              "    </tr>\n",
              "    <tr>\n",
              "      <th>2021-06-07</th>\n",
              "      <td>32.500000</td>\n",
              "      <td>32.923378</td>\n",
              "    </tr>\n",
              "  </tbody>\n",
              "</table>\n",
              "<p>524 rows × 2 columns</p>\n",
              "</div>"
            ],
            "text/plain": [
              "            Adj Close  Predictions\n",
              "Date                              \n",
              "2019-05-09  50.154713    49.271393\n",
              "2019-05-10  49.928833    49.619884\n",
              "2019-05-13  49.416256    49.951553\n",
              "2019-05-14  51.101688    50.090065\n",
              "2019-05-15  50.328472    50.517105\n",
              "...               ...          ...\n",
              "2021-06-01  30.059999    29.601782\n",
              "2021-06-02  32.349998    29.938478\n",
              "2021-06-03  33.029999    30.813683\n",
              "2021-06-04  33.490002    31.884357\n",
              "2021-06-07  32.500000    32.923378\n",
              "\n",
              "[524 rows x 2 columns]"
            ]
          },
          "metadata": {
            "tags": []
          },
          "execution_count": 22
        }
      ]
    },
    {
      "cell_type": "code",
      "metadata": {
        "colab": {
          "base_uri": "https://localhost:8080/"
        },
        "id": "UNmNMbZ26zeu",
        "outputId": "3f3c1bc4-72af-4e16-eb7f-069f959d7ede"
      },
      "source": [
        "#Get the quote\n",
        "vy_quote=web.DataReader('HP',data_source='yahoo', start='2011-01-01',end='2021-06-07')\n",
        "#create a new data frame\n",
        "new_df=vy_quote.filter(['Adj Close'])\n",
        "#Get the last 60 days closing price values and convert the data frame to array\n",
        "last_60_days=new_df[-60:].values\n",
        "#Scale the data\n",
        "last_60_days_scaled=scaler.transform(last_60_days)\n",
        "#Create an empty list\n",
        "X_test=[]\n",
        "#Append the past 60 days \n",
        "X_test.append(last_60_days_scaled)\n",
        "#Convert X_test to numpy array\n",
        "X_test=np.array(X_test)\n",
        "#Reshape to 3 dim\n",
        "X_test=np.reshape(X_test,(X_test.shape[0],X_test.shape[1],1))\n",
        "#Get the predicted scaled prixes\n",
        "pred_price=model.predict(X_test)\n",
        "#Undo the scaling\n",
        "pred_price=scaler.inverse_transform(pred_price)\n",
        "print(pred_price)\n"
      ],
      "execution_count": null,
      "outputs": [
        {
          "output_type": "stream",
          "text": [
            "[[33.538612]]\n"
          ],
          "name": "stdout"
        }
      ]
    },
    {
      "cell_type": "code",
      "metadata": {
        "colab": {
          "base_uri": "https://localhost:8080/"
        },
        "id": "9_HtT5OI9hmc",
        "outputId": "f887c2c7-3b2b-420b-8dbf-c0ae4cd6ef9f"
      },
      "source": [
        "#Get the Actual data\n",
        "vy_quote2=web.DataReader('HP',data_source='yahoo', start='2021-06-08',end='2021-06-08')\n",
        "print(vy_quote2['Adj Close'])\n"
      ],
      "execution_count": null,
      "outputs": [
        {
          "output_type": "stream",
          "text": [
            "Date\n",
            "2021-06-08    32.889999\n",
            "Name: Adj Close, dtype: float64\n"
          ],
          "name": "stdout"
        }
      ]
    }
  ]
}