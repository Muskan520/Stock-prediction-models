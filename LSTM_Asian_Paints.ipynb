{
  "nbformat": 4,
  "nbformat_minor": 0,
  "metadata": {
    "colab": {
      "name": "LSTM_Asian_Paints.ipynb",
      "provenance": [],
      "authorship_tag": "ABX9TyMFbTakfo7gzAK3vORurXRx",
      "include_colab_link": true
    },
    "kernelspec": {
      "name": "python3",
      "display_name": "Python 3"
    },
    "language_info": {
      "name": "python"
    }
  },
  "cells": [
    {
      "cell_type": "markdown",
      "metadata": {
        "id": "view-in-github",
        "colab_type": "text"
      },
      "source": [
        "<a href=\"https://colab.research.google.com/github/Muskan520/Stock-prediction-models/blob/main/LSTM_Asian_Paints.ipynb\" target=\"_parent\"><img src=\"https://colab.research.google.com/assets/colab-badge.svg\" alt=\"Open In Colab\"/></a>"
      ]
    },
    {
      "cell_type": "code",
      "metadata": {
        "id": "HeuS9RFa0PAU"
      },
      "source": [
        "#Predicting adjusting stock price using lstm"
      ],
      "execution_count": null,
      "outputs": []
    },
    {
      "cell_type": "code",
      "metadata": {
        "id": "bVnJfeonDea6"
      },
      "source": [
        "import math\n",
        "import numpy as np\n",
        "import pandas_datareader as web \n",
        "import pandas as pd\n",
        "from sklearn.preprocessing import MinMaxScaler\n",
        "from keras.models import Sequential\n",
        "from keras.layers import Dense, LSTM\n",
        "import matplotlib.pyplot as plt\n",
        "plt.style.use('fivethirtyeight')"
      ],
      "execution_count": null,
      "outputs": []
    },
    {
      "cell_type": "code",
      "metadata": {
        "colab": {
          "base_uri": "https://localhost:8080/",
          "height": 450
        },
        "id": "P-OolmojEtBr",
        "outputId": "4d100a27-a377-4d79-a9a5-8cfc77a558fb"
      },
      "source": [
        "#get data Asian Paints\n",
        "df=web.DataReader('ASIANPAINT.NS',data_source='yahoo', start='2011-01-01',end='2021-06-07')\n",
        "df\n"
      ],
      "execution_count": null,
      "outputs": [
        {
          "output_type": "execute_result",
          "data": {
            "text/html": [
              "<div>\n",
              "<style scoped>\n",
              "    .dataframe tbody tr th:only-of-type {\n",
              "        vertical-align: middle;\n",
              "    }\n",
              "\n",
              "    .dataframe tbody tr th {\n",
              "        vertical-align: top;\n",
              "    }\n",
              "\n",
              "    .dataframe thead th {\n",
              "        text-align: right;\n",
              "    }\n",
              "</style>\n",
              "<table border=\"1\" class=\"dataframe\">\n",
              "  <thead>\n",
              "    <tr style=\"text-align: right;\">\n",
              "      <th></th>\n",
              "      <th>High</th>\n",
              "      <th>Low</th>\n",
              "      <th>Open</th>\n",
              "      <th>Close</th>\n",
              "      <th>Volume</th>\n",
              "      <th>Adj Close</th>\n",
              "    </tr>\n",
              "    <tr>\n",
              "      <th>Date</th>\n",
              "      <th></th>\n",
              "      <th></th>\n",
              "      <th></th>\n",
              "      <th></th>\n",
              "      <th></th>\n",
              "      <th></th>\n",
              "    </tr>\n",
              "  </thead>\n",
              "  <tbody>\n",
              "    <tr>\n",
              "      <th>2011-01-03</th>\n",
              "      <td>293.739990</td>\n",
              "      <td>286.005005</td>\n",
              "      <td>289.799988</td>\n",
              "      <td>287.454987</td>\n",
              "      <td>454300.0</td>\n",
              "      <td>263.452148</td>\n",
              "    </tr>\n",
              "    <tr>\n",
              "      <th>2011-01-04</th>\n",
              "      <td>289.899994</td>\n",
              "      <td>282.600006</td>\n",
              "      <td>289.899994</td>\n",
              "      <td>283.619995</td>\n",
              "      <td>249220.0</td>\n",
              "      <td>259.937408</td>\n",
              "    </tr>\n",
              "    <tr>\n",
              "      <th>2011-01-05</th>\n",
              "      <td>289.500000</td>\n",
              "      <td>283.024994</td>\n",
              "      <td>288.000000</td>\n",
              "      <td>288.049988</td>\n",
              "      <td>710350.0</td>\n",
              "      <td>263.997467</td>\n",
              "    </tr>\n",
              "    <tr>\n",
              "      <th>2011-01-06</th>\n",
              "      <td>289.399994</td>\n",
              "      <td>284.250000</td>\n",
              "      <td>288.200012</td>\n",
              "      <td>284.950012</td>\n",
              "      <td>149280.0</td>\n",
              "      <td>261.156311</td>\n",
              "    </tr>\n",
              "    <tr>\n",
              "      <th>2011-01-07</th>\n",
              "      <td>286.790009</td>\n",
              "      <td>276.135010</td>\n",
              "      <td>284.954987</td>\n",
              "      <td>277.575012</td>\n",
              "      <td>498710.0</td>\n",
              "      <td>254.397095</td>\n",
              "    </tr>\n",
              "    <tr>\n",
              "      <th>...</th>\n",
              "      <td>...</td>\n",
              "      <td>...</td>\n",
              "      <td>...</td>\n",
              "      <td>...</td>\n",
              "      <td>...</td>\n",
              "      <td>...</td>\n",
              "    </tr>\n",
              "    <tr>\n",
              "      <th>2021-06-02</th>\n",
              "      <td>2933.750000</td>\n",
              "      <td>2877.149902</td>\n",
              "      <td>2918.850098</td>\n",
              "      <td>2903.699951</td>\n",
              "      <td>2067842.0</td>\n",
              "      <td>2889.396240</td>\n",
              "    </tr>\n",
              "    <tr>\n",
              "      <th>2021-06-03</th>\n",
              "      <td>2942.000000</td>\n",
              "      <td>2904.050049</td>\n",
              "      <td>2919.600098</td>\n",
              "      <td>2935.350098</td>\n",
              "      <td>1404434.0</td>\n",
              "      <td>2920.890381</td>\n",
              "    </tr>\n",
              "    <tr>\n",
              "      <th>2021-06-04</th>\n",
              "      <td>2990.000000</td>\n",
              "      <td>2908.000000</td>\n",
              "      <td>2953.000000</td>\n",
              "      <td>2924.899902</td>\n",
              "      <td>1509084.0</td>\n",
              "      <td>2910.491699</td>\n",
              "    </tr>\n",
              "    <tr>\n",
              "      <th>2021-06-07</th>\n",
              "      <td>2941.000000</td>\n",
              "      <td>2903.949951</td>\n",
              "      <td>2930.000000</td>\n",
              "      <td>2933.100098</td>\n",
              "      <td>802415.0</td>\n",
              "      <td>2918.651611</td>\n",
              "    </tr>\n",
              "    <tr>\n",
              "      <th>2021-06-08</th>\n",
              "      <td>2944.250000</td>\n",
              "      <td>2907.500000</td>\n",
              "      <td>2928.000000</td>\n",
              "      <td>2926.250000</td>\n",
              "      <td>762931.0</td>\n",
              "      <td>2911.835205</td>\n",
              "    </tr>\n",
              "  </tbody>\n",
              "</table>\n",
              "<p>2567 rows × 6 columns</p>\n",
              "</div>"
            ],
            "text/plain": [
              "                   High          Low  ...     Volume    Adj Close\n",
              "Date                                  ...                        \n",
              "2011-01-03   293.739990   286.005005  ...   454300.0   263.452148\n",
              "2011-01-04   289.899994   282.600006  ...   249220.0   259.937408\n",
              "2011-01-05   289.500000   283.024994  ...   710350.0   263.997467\n",
              "2011-01-06   289.399994   284.250000  ...   149280.0   261.156311\n",
              "2011-01-07   286.790009   276.135010  ...   498710.0   254.397095\n",
              "...                 ...          ...  ...        ...          ...\n",
              "2021-06-02  2933.750000  2877.149902  ...  2067842.0  2889.396240\n",
              "2021-06-03  2942.000000  2904.050049  ...  1404434.0  2920.890381\n",
              "2021-06-04  2990.000000  2908.000000  ...  1509084.0  2910.491699\n",
              "2021-06-07  2941.000000  2903.949951  ...   802415.0  2918.651611\n",
              "2021-06-08  2944.250000  2907.500000  ...   762931.0  2911.835205\n",
              "\n",
              "[2567 rows x 6 columns]"
            ]
          },
          "metadata": {
            "tags": []
          },
          "execution_count": 2
        }
      ]
    },
    {
      "cell_type": "code",
      "metadata": {
        "colab": {
          "base_uri": "https://localhost:8080/"
        },
        "id": "sj3XTaPhJU5M",
        "outputId": "48993d06-71e5-43da-9564-b6d8d2842562"
      },
      "source": [
        "df.shape"
      ],
      "execution_count": null,
      "outputs": [
        {
          "output_type": "execute_result",
          "data": {
            "text/plain": [
              "(2567, 6)"
            ]
          },
          "metadata": {
            "tags": []
          },
          "execution_count": 3
        }
      ]
    },
    {
      "cell_type": "code",
      "metadata": {
        "colab": {
          "base_uri": "https://localhost:8080/",
          "height": 518
        },
        "id": "6-EWACEBJdZ7",
        "outputId": "d1717c95-2e93-43d1-d2c3-5d224b33e17b"
      },
      "source": [
        "plt.figure(figsize=(16,8))\n",
        "plt.title('Historical data')\n",
        "plt.plot(df['Adj Close'])\n",
        "plt.xlabel('Date',fontsize=18)\n",
        "plt.ylabel('Adj Close price ',fontsize=18)\n",
        "plt.show()\n"
      ],
      "execution_count": null,
      "outputs": [
        {
          "output_type": "display_data",
          "data": {
            "image/png": "[encoded data removed]",
            "text/plain": [
              "<Figure size 1152x576 with 1 Axes>"
            ]
          },
          "metadata": {
            "tags": [],
            "needs_background": "light"
          }
        }
      ]
    },
    {
      "cell_type": "code",
      "metadata": {
        "colab": {
          "base_uri": "https://localhost:8080/"
        },
        "id": "j6qaMy4OK6wU",
        "outputId": "e78110df-3b5a-4d53-fd52-d6b561b30258"
      },
      "source": [
        "data=df.filter(['Adj Close'])\n",
        "dataset=data.values\n",
        "training_data_len=math.ceil(len(dataset)*0.8)\n",
        "training_data_len"
      ],
      "execution_count": null,
      "outputs": [
        {
          "output_type": "execute_result",
          "data": {
            "text/plain": [
              "2054"
            ]
          },
          "metadata": {
            "tags": []
          },
          "execution_count": 6
        }
      ]
    },
    {
      "cell_type": "code",
      "metadata": {
        "colab": {
          "base_uri": "https://localhost:8080/"
        },
        "id": "3gKQ07tDLr72",
        "outputId": "bb81f0a8-4aaa-4a73-9066-8da29914e5d9"
      },
      "source": [
        "#scale the data\n",
        "scaler= MinMaxScaler(feature_range=(0, 1))\n",
        "scaled_data=scaler.fit_transform(dataset)\n",
        "scaled_data"
      ],
      "execution_count": null,
      "outputs": [
        {
          "output_type": "execute_result",
          "data": {
            "text/plain": [
              "array([[0.01583351],\n",
              "       [0.01455207],\n",
              "       [0.01603232],\n",
              "       ...,\n",
              "       [0.98091698],\n",
              "       [0.983892  ],\n",
              "       [0.98140681]])"
            ]
          },
          "metadata": {
            "tags": []
          },
          "execution_count": 7
        }
      ]
    },
    {
      "cell_type": "code",
      "metadata": {
        "colab": {
          "base_uri": "https://localhost:8080/"
        },
        "id": "Qkqx5_oaMabs",
        "outputId": "5895976d-d3f1-4d90-ef69-60c63897f119"
      },
      "source": [
        "#creatitg training data set\n",
        "#creating scaled training data set\n",
        "train_data= scaled_data[0:training_data_len,:]\n",
        "#split in x train and y train\n",
        "x_train=[]\n",
        "y_train=[]\n",
        " \n",
        "for i in range(60,len(train_data)):\n",
        "  x_train.append(train_data[i-60:i, 0])\n",
        "  y_train.append(train_data[i, 0])\n",
        "  if i<=61:\n",
        "    print(x_train)\n",
        "    print(y_train)\n",
        "    print()"
      ],
      "execution_count": null,
      "outputs": [
        {
          "output_type": "stream",
          "text": [
            "[array([0.01583351, 0.01455207, 0.01603232, 0.01499647, 0.01253213,\n",
            "       0.00925752, 0.01011291, 0.01087977, 0.01046043, 0.01086642,\n",
            "       0.00875962, 0.00848898, 0.0089434 , 0.00914224, 0.00878136,\n",
            "       0.00735957, 0.0066545 , 0.00666118, 0.00596116, 0.00590769,\n",
            "       0.00291374, 0.00283187, 0.00236908, 0.00285861, 0.00336985,\n",
            "       0.00263641, 0.00248938, 0.00277507, 0.0032696 , 0.0066595 ,\n",
            "       0.00625521, 0.00547163, 0.00648578, 0.00662945, 0.00568381,\n",
            "       0.00365555, 0.0025846 , 0.00035585, 0.00019379, 0.        ,\n",
            "       0.00441405, 0.00458614, 0.00359372, 0.0034918 , 0.0033214 ,\n",
            "       0.00335147, 0.00331972, 0.00430879, 0.00425869, 0.0043606 ,\n",
            "       0.00509573, 0.0059645 , 0.00486515, 0.00410832, 0.00364552,\n",
            "       0.00484678, 0.00341328, 0.00429543, 0.00423361, 0.00384769])]\n",
            "[0.004527675474892939]\n",
            "\n",
            "[array([0.01583351, 0.01455207, 0.01603232, 0.01499647, 0.01253213,\n",
            "       0.00925752, 0.01011291, 0.01087977, 0.01046043, 0.01086642,\n",
            "       0.00875962, 0.00848898, 0.0089434 , 0.00914224, 0.00878136,\n",
            "       0.00735957, 0.0066545 , 0.00666118, 0.00596116, 0.00590769,\n",
            "       0.00291374, 0.00283187, 0.00236908, 0.00285861, 0.00336985,\n",
            "       0.00263641, 0.00248938, 0.00277507, 0.0032696 , 0.0066595 ,\n",
            "       0.00625521, 0.00547163, 0.00648578, 0.00662945, 0.00568381,\n",
            "       0.00365555, 0.0025846 , 0.00035585, 0.00019379, 0.        ,\n",
            "       0.00441405, 0.00458614, 0.00359372, 0.0034918 , 0.0033214 ,\n",
            "       0.00335147, 0.00331972, 0.00430879, 0.00425869, 0.0043606 ,\n",
            "       0.00509573, 0.0059645 , 0.00486515, 0.00410832, 0.00364552,\n",
            "       0.00484678, 0.00341328, 0.00429543, 0.00423361, 0.00384769]), array([0.01455207, 0.01603232, 0.01499647, 0.01253213, 0.00925752,\n",
            "       0.01011291, 0.01087977, 0.01046043, 0.01086642, 0.00875962,\n",
            "       0.00848898, 0.0089434 , 0.00914224, 0.00878136, 0.00735957,\n",
            "       0.0066545 , 0.00666118, 0.00596116, 0.00590769, 0.00291374,\n",
            "       0.00283187, 0.00236908, 0.00285861, 0.00336985, 0.00263641,\n",
            "       0.00248938, 0.00277507, 0.0032696 , 0.0066595 , 0.00625521,\n",
            "       0.00547163, 0.00648578, 0.00662945, 0.00568381, 0.00365555,\n",
            "       0.0025846 , 0.00035585, 0.00019379, 0.        , 0.00441405,\n",
            "       0.00458614, 0.00359372, 0.0034918 , 0.0033214 , 0.00335147,\n",
            "       0.00331972, 0.00430879, 0.00425869, 0.0043606 , 0.00509573,\n",
            "       0.0059645 , 0.00486515, 0.00410832, 0.00364552, 0.00484678,\n",
            "       0.00341328, 0.00429543, 0.00423361, 0.00384769, 0.00452768])]\n",
            "[0.004527675474892939, 0.004180164746766232]\n",
            "\n"
          ],
          "name": "stdout"
        }
      ]
    },
    {
      "cell_type": "code",
      "metadata": {
        "id": "oi0FIHWix3kg"
      },
      "source": [
        "#convert x_train & y_train to numpy\n",
        "x_train,y_train=np.array(x_train),np.array(y_train)"
      ],
      "execution_count": null,
      "outputs": []
    },
    {
      "cell_type": "code",
      "metadata": {
        "colab": {
          "base_uri": "https://localhost:8080/"
        },
        "id": "7rNWBlLIyKHt",
        "outputId": "0a1d8f7d-5c83-49ea-85b7-6178ce385aec"
      },
      "source": [
        "#reshape the data\n",
        "x_train=np.reshape(x_train,(x_train.shape[0],x_train.shape[1],1))\n",
        "x_train.shape"
      ],
      "execution_count": null,
      "outputs": [
        {
          "output_type": "execute_result",
          "data": {
            "text/plain": [
              "(1994, 60, 1)"
            ]
          },
          "metadata": {
            "tags": []
          },
          "execution_count": 10
        }
      ]
    },
    {
      "cell_type": "code",
      "metadata": {
        "id": "10gTy6Cmy2oz"
      },
      "source": [
        "#build the lstm model\n",
        "model=Sequential()\n",
        "model.add(LSTM(50,return_sequences=True,input_shape=(x_train.shape[1],1)))\n",
        "model.add(LSTM(50,return_sequences=False))\n",
        "model.add(Dense(25))\n",
        "model.add(Dense(1))\n",
        "\n"
      ],
      "execution_count": null,
      "outputs": []
    },
    {
      "cell_type": "code",
      "metadata": {
        "id": "T2paUfQi0Eq9"
      },
      "source": [
        "#compile the model\n",
        "model.compile(optimizer='adam',loss='mean_squared_error')"
      ],
      "execution_count": null,
      "outputs": []
    },
    {
      "cell_type": "code",
      "metadata": {
        "colab": {
          "base_uri": "https://localhost:8080/"
        },
        "id": "V0gTmd830bjk",
        "outputId": "749feb43-b1d7-4e2e-b732-46d9eb833a76"
      },
      "source": [
        "#train the model\n",
        "model.fit(x_train,y_train,batch_size=1,epochs=1)"
      ],
      "execution_count": null,
      "outputs": [
        {
          "output_type": "stream",
          "text": [
            "1994/1994 [==============================] - 70s 25ms/step - loss: 7.7217e-04\n"
          ],
          "name": "stdout"
        },
        {
          "output_type": "execute_result",
          "data": {
            "text/plain": [
              "<keras.callbacks.History at 0x7fc202343cd0>"
            ]
          },
          "metadata": {
            "tags": []
          },
          "execution_count": 13
        }
      ]
    },
    {
      "cell_type": "code",
      "metadata": {
        "id": "2SwaoLJP1Fwo"
      },
      "source": [
        "#Create the testing data set\n",
        "#Create a new array contaiing scaled values from index 2040 to 2624\n",
        "test_data=scaled_data[training_data_len-60:,:]\n",
        "#create the x_test and y_test\n",
        "x_test=[]\n",
        "y_test=dataset[training_data_len:,:]    #want our model to predict\n",
        "for i in range(60,len(test_data)):\n",
        "  x_test.append(test_data[i-60:i,0])   #past 60 values"
      ],
      "execution_count": null,
      "outputs": []
    },
    {
      "cell_type": "code",
      "metadata": {
        "id": "-_XdodZT2kyV"
      },
      "source": [
        "#convert data to numpy array\n",
        "x_test=np.array(x_test)\n"
      ],
      "execution_count": null,
      "outputs": []
    },
    {
      "cell_type": "code",
      "metadata": {
        "id": "61x7G-G520q5"
      },
      "source": [
        "#reshape the data\n",
        "x_test=np.reshape(x_test,(x_test.shape[0],x_test.shape[1],1))\n",
        "#x_test"
      ],
      "execution_count": null,
      "outputs": []
    },
    {
      "cell_type": "code",
      "metadata": {
        "id": "awq4xr4s3OHt"
      },
      "source": [
        "#get the models preddicted values\n",
        "predictions=model.predict(x_test)\n",
        "predictions=scaler.inverse_transform(predictions)"
      ],
      "execution_count": null,
      "outputs": []
    },
    {
      "cell_type": "code",
      "metadata": {
        "colab": {
          "base_uri": "https://localhost:8080/"
        },
        "id": "8KAxPulz4TI_",
        "outputId": "133d3fcf-a3d7-4f79-a84e-6d766dbd07d9"
      },
      "source": [
        "#Get the root mean squared error(RMSE)\n",
        "rmse=np.sqrt(np.mean(((predictions- y_test)**2)))\n",
        "rmse"
      ],
      "execution_count": null,
      "outputs": [
        {
          "output_type": "execute_result",
          "data": {
            "text/plain": [
              "172.54161654127054"
            ]
          },
          "metadata": {
            "tags": []
          },
          "execution_count": 18
        }
      ]
    },
    {
      "cell_type": "code",
      "metadata": {
        "colab": {
          "base_uri": "https://localhost:8080/",
          "height": 620
        },
        "id": "zNcgFIrc4Wyo",
        "outputId": "a115e67c-c0ef-4502-aecf-61cc9fb5217c"
      },
      "source": [
        "#Plot the data\n",
        "train=data[:training_data_len]\n",
        "valid=data[training_data_len:]\n",
        "valid['Predictions']=predictions\n",
        "#Visu;aize the model\n",
        "plt.figure(figsize=(16,8))\n",
        "plt.title('Model')\n",
        "plt.xlabel('Date',fontsize=18)\n",
        "plt.ylabel('Adj Close price',fontsize=18)\n",
        "plt.plot(train['Adj Close'])\n",
        "plt.plot(valid[['Adj Close','Predictions']])\n",
        "plt.legend(['Train','Val','Predictions'],loc='lower right')\n",
        "plt.show()\n"
      ],
      "execution_count": null,
      "outputs": [
        {
          "output_type": "stream",
          "text": [
            "/usr/local/lib/python3.7/dist-packages/ipykernel_launcher.py:4: SettingWithCopyWarning: \n",
            "A value is trying to be set on a copy of a slice from a DataFrame.\n",
            "Try using .loc[row_indexer,col_indexer] = value instead\n",
            "\n",
            "See the caveats in the documentation: https://pandas.pydata.org/pandas-docs/stable/user_guide/indexing.html#returning-a-view-versus-a-copy\n",
            "  after removing the cwd from sys.path.\n"
          ],
          "name": "stderr"
        },
        {
          "output_type": "display_data",
          "data": {
            "image/png": "[encoded data removed]",
            "text/plain": [
              "<Figure size 1152x576 with 1 Axes>"
            ]
          },
          "metadata": {
            "tags": [],
            "needs_background": "light"
          }
        }
      ]
    },
    {
      "cell_type": "code",
      "metadata": {
        "colab": {
          "base_uri": "https://localhost:8080/",
          "height": 450
        },
        "id": "DbqR8xvI6hIc",
        "outputId": "3756da78-68e7-4849-af38-b91a500b086c"
      },
      "source": [
        "#Show the valid and predicted prices\n",
        "valid\n"
      ],
      "execution_count": null,
      "outputs": [
        {
          "output_type": "execute_result",
          "data": {
            "text/html": [
              "<div>\n",
              "<style scoped>\n",
              "    .dataframe tbody tr th:only-of-type {\n",
              "        vertical-align: middle;\n",
              "    }\n",
              "\n",
              "    .dataframe tbody tr th {\n",
              "        vertical-align: top;\n",
              "    }\n",
              "\n",
              "    .dataframe thead th {\n",
              "        text-align: right;\n",
              "    }\n",
              "</style>\n",
              "<table border=\"1\" class=\"dataframe\">\n",
              "  <thead>\n",
              "    <tr style=\"text-align: right;\">\n",
              "      <th></th>\n",
              "      <th>Adj Close</th>\n",
              "      <th>Predictions</th>\n",
              "    </tr>\n",
              "    <tr>\n",
              "      <th>Date</th>\n",
              "      <th></th>\n",
              "      <th></th>\n",
              "    </tr>\n",
              "  </thead>\n",
              "  <tbody>\n",
              "    <tr>\n",
              "      <th>2019-05-10</th>\n",
              "      <td>1316.353394</td>\n",
              "      <td>1317.198608</td>\n",
              "    </tr>\n",
              "    <tr>\n",
              "      <th>2019-05-13</th>\n",
              "      <td>1307.960693</td>\n",
              "      <td>1304.677246</td>\n",
              "    </tr>\n",
              "    <tr>\n",
              "      <th>2019-05-14</th>\n",
              "      <td>1295.936279</td>\n",
              "      <td>1292.060303</td>\n",
              "    </tr>\n",
              "    <tr>\n",
              "      <th>2019-05-15</th>\n",
              "      <td>1281.899658</td>\n",
              "      <td>1279.572021</td>\n",
              "    </tr>\n",
              "    <tr>\n",
              "      <th>2019-05-16</th>\n",
              "      <td>1280.378174</td>\n",
              "      <td>1267.111328</td>\n",
              "    </tr>\n",
              "    <tr>\n",
              "      <th>...</th>\n",
              "      <td>...</td>\n",
              "      <td>...</td>\n",
              "    </tr>\n",
              "    <tr>\n",
              "      <th>2021-06-02</th>\n",
              "      <td>2889.396240</td>\n",
              "      <td>2598.316162</td>\n",
              "    </tr>\n",
              "    <tr>\n",
              "      <th>2021-06-03</th>\n",
              "      <td>2920.890381</td>\n",
              "      <td>2601.220459</td>\n",
              "    </tr>\n",
              "    <tr>\n",
              "      <th>2021-06-04</th>\n",
              "      <td>2910.491699</td>\n",
              "      <td>2604.084473</td>\n",
              "    </tr>\n",
              "    <tr>\n",
              "      <th>2021-06-07</th>\n",
              "      <td>2918.651611</td>\n",
              "      <td>2605.207764</td>\n",
              "    </tr>\n",
              "    <tr>\n",
              "      <th>2021-06-08</th>\n",
              "      <td>2911.835205</td>\n",
              "      <td>2606.363281</td>\n",
              "    </tr>\n",
              "  </tbody>\n",
              "</table>\n",
              "<p>513 rows × 2 columns</p>\n",
              "</div>"
            ],
            "text/plain": [
              "              Adj Close  Predictions\n",
              "Date                                \n",
              "2019-05-10  1316.353394  1317.198608\n",
              "2019-05-13  1307.960693  1304.677246\n",
              "2019-05-14  1295.936279  1292.060303\n",
              "2019-05-15  1281.899658  1279.572021\n",
              "2019-05-16  1280.378174  1267.111328\n",
              "...                 ...          ...\n",
              "2021-06-02  2889.396240  2598.316162\n",
              "2021-06-03  2920.890381  2601.220459\n",
              "2021-06-04  2910.491699  2604.084473\n",
              "2021-06-07  2918.651611  2605.207764\n",
              "2021-06-08  2911.835205  2606.363281\n",
              "\n",
              "[513 rows x 2 columns]"
            ]
          },
          "metadata": {
            "tags": []
          },
          "execution_count": 20
        }
      ]
    },
    {
      "cell_type": "code",
      "metadata": {
        "colab": {
          "base_uri": "https://localhost:8080/"
        },
        "id": "UNmNMbZ26zeu",
        "outputId": "7d22d389-0901-4ed0-c33f-c90339cc94fb"
      },
      "source": [
        "#Get the quote\n",
        "vy_quote=web.DataReader('ASIANPAINT.NS',data_source='yahoo', start='2011-01-01',end='2021-06-07')\n",
        "#create a new data frame\n",
        "new_df=vy_quote.filter(['Adj Close'])\n",
        "#Get the last 60 days closing price values and convert the data frame to array\n",
        "last_60_days=new_df[-60:].values\n",
        "#Scale the data\n",
        "last_60_days_scaled=scaler.transform(last_60_days)\n",
        "#Create an empty list\n",
        "X_test=[]\n",
        "#Append the past 60 days \n",
        "X_test.append(last_60_days_scaled)\n",
        "#Convert X_test to numpy array\n",
        "X_test=np.array(X_test)\n",
        "#Reshape to 3 dim\n",
        "X_test=np.reshape(X_test,(X_test.shape[0],X_test.shape[1],1))\n",
        "#Get the predicted scaled prixes\n",
        "pred_price=model.predict(X_test)\n",
        "#Undo the scaling\n",
        "pred_price=scaler.inverse_transform(pred_price)\n",
        "print(pred_price)\n"
      ],
      "execution_count": null,
      "outputs": [
        {
          "output_type": "stream",
          "text": [
            "[[2606.639]]\n"
          ],
          "name": "stdout"
        }
      ]
    },
    {
      "cell_type": "code",
      "metadata": {
        "colab": {
          "base_uri": "https://localhost:8080/"
        },
        "id": "9_HtT5OI9hmc",
        "outputId": "0e3e1aef-74aa-44ab-c636-cb07eca56c9d"
      },
      "source": [
        "#Get the Actual data\n",
        "vy_quote2=web.DataReader('ASIANPAINT.NS',data_source='yahoo', start='2021-06-08',end='2021-06-08')\n",
        "print(vy_quote2['Adj Close'])\n"
      ],
      "execution_count": null,
      "outputs": [
        {
          "output_type": "stream",
          "text": [
            "Date\n",
            "2021-06-08    2911.835205\n",
            "2021-06-09    2929.050049\n",
            "Name: Adj Close, dtype: float64\n"
          ],
          "name": "stdout"
        }
      ]
    }
  ]
}